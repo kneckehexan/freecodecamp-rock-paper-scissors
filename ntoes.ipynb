{
 "cells": [
  {
   "cell_type": "markdown",
   "metadata": {},
   "source": [
    "# Machine Learning with Python"
   ]
  },
  {
   "cell_type": "code",
   "execution_count": 2,
   "metadata": {},
   "outputs": [],
   "source": [
    "import numpy as np\n",
    "import itertools\n",
    "import json"
   ]
  },
  {
   "cell_type": "code",
   "execution_count": 5,
   "metadata": {},
   "outputs": [],
   "source": [
    "def create_matrix(order):\n",
    "    def create_keys(order):\n",
    "        keys = ['R', 'P', 'S']\n",
    "        for i in range((order * 2 - 1)):\n",
    "            key_len = len(keys)\n",
    "            for i in itertools.product(keys, ''.join(keys)):\n",
    "                keys.append(''.join(i))\n",
    "            keys = keys[key_len:]\n",
    "        return keys\n",
    "    \n",
    "    keys = create_keys(order)\n",
    "\n",
    "    matrix = {}\n",
    "    for key in keys:\n",
    "        matrix[key] = {\n",
    "            'R': {\n",
    "                'prob': 1/3,\n",
    "                'n_obs': 0\n",
    "            },\n",
    "            'P': {\n",
    "                'prob': 1/3,\n",
    "                'n_obs': 0\n",
    "            },\n",
    "            'S': {\n",
    "                'prob': 1/3,\n",
    "                'n_obs': 0\n",
    "            }\n",
    "        }\n",
    "    \n",
    "    return matrix"
   ]
  },
  {
   "cell_type": "code",
   "execution_count": 6,
   "metadata": {},
   "outputs": [
    {
     "name": "stdout",
     "output_type": "stream",
     "text": [
      "{\n",
      "    \"RR\": {\n",
      "        \"R\": {\n",
      "            \"prob\": 0.3333333333333333,\n",
      "            \"n_obs\": 0\n",
      "        },\n",
      "        \"P\": {\n",
      "            \"prob\": 0.3333333333333333,\n",
      "            \"n_obs\": 0\n",
      "        },\n",
      "        \"S\": {\n",
      "            \"prob\": 0.3333333333333333,\n",
      "            \"n_obs\": 0\n",
      "        }\n",
      "    },\n",
      "    \"RP\": {\n",
      "        \"R\": {\n",
      "            \"prob\": 0.3333333333333333,\n",
      "            \"n_obs\": 0\n",
      "        },\n",
      "        \"P\": {\n",
      "            \"prob\": 0.3333333333333333,\n",
      "            \"n_obs\": 0\n",
      "        },\n",
      "        \"S\": {\n",
      "            \"prob\": 0.3333333333333333,\n",
      "            \"n_obs\": 0\n",
      "        }\n",
      "    },\n",
      "    \"RS\": {\n",
      "        \"R\": {\n",
      "            \"prob\": 0.3333333333333333,\n",
      "            \"n_obs\": 0\n",
      "        },\n",
      "        \"P\": {\n",
      "            \"prob\": 0.3333333333333333,\n",
      "            \"n_obs\": 0\n",
      "        },\n",
      "        \"S\": {\n",
      "            \"prob\": 0.3333333333333333,\n",
      "            \"n_obs\": 0\n",
      "        }\n",
      "    },\n",
      "    \"PR\": {\n",
      "        \"R\": {\n",
      "            \"prob\": 0.3333333333333333,\n",
      "            \"n_obs\": 0\n",
      "        },\n",
      "        \"P\": {\n",
      "            \"prob\": 0.3333333333333333,\n",
      "            \"n_obs\": 0\n",
      "        },\n",
      "        \"S\": {\n",
      "            \"prob\": 0.3333333333333333,\n",
      "            \"n_obs\": 0\n",
      "        }\n",
      "    },\n",
      "    \"PP\": {\n",
      "        \"R\": {\n",
      "            \"prob\": 0.3333333333333333,\n",
      "            \"n_obs\": 0\n",
      "        },\n",
      "        \"P\": {\n",
      "            \"prob\": 0.3333333333333333,\n",
      "            \"n_obs\": 0\n",
      "        },\n",
      "        \"S\": {\n",
      "            \"prob\": 0.3333333333333333,\n",
      "            \"n_obs\": 0\n",
      "        }\n",
      "    },\n",
      "    \"PS\": {\n",
      "        \"R\": {\n",
      "            \"prob\": 0.3333333333333333,\n",
      "            \"n_obs\": 0\n",
      "        },\n",
      "        \"P\": {\n",
      "            \"prob\": 0.3333333333333333,\n",
      "            \"n_obs\": 0\n",
      "        },\n",
      "        \"S\": {\n",
      "            \"prob\": 0.3333333333333333,\n",
      "            \"n_obs\": 0\n",
      "        }\n",
      "    },\n",
      "    \"SR\": {\n",
      "        \"R\": {\n",
      "            \"prob\": 0.3333333333333333,\n",
      "            \"n_obs\": 0\n",
      "        },\n",
      "        \"P\": {\n",
      "            \"prob\": 0.3333333333333333,\n",
      "            \"n_obs\": 0\n",
      "        },\n",
      "        \"S\": {\n",
      "            \"prob\": 0.3333333333333333,\n",
      "            \"n_obs\": 0\n",
      "        }\n",
      "    },\n",
      "    \"SP\": {\n",
      "        \"R\": {\n",
      "            \"prob\": 0.3333333333333333,\n",
      "            \"n_obs\": 0\n",
      "        },\n",
      "        \"P\": {\n",
      "            \"prob\": 0.3333333333333333,\n",
      "            \"n_obs\": 0\n",
      "        },\n",
      "        \"S\": {\n",
      "            \"prob\": 0.3333333333333333,\n",
      "            \"n_obs\": 0\n",
      "        }\n",
      "    },\n",
      "    \"SS\": {\n",
      "        \"R\": {\n",
      "            \"prob\": 0.3333333333333333,\n",
      "            \"n_obs\": 0\n",
      "        },\n",
      "        \"P\": {\n",
      "            \"prob\": 0.3333333333333333,\n",
      "            \"n_obs\": 0\n",
      "        },\n",
      "        \"S\": {\n",
      "            \"prob\": 0.3333333333333333,\n",
      "            \"n_obs\": 0\n",
      "        }\n",
      "    }\n",
      "}\n"
     ]
    }
   ],
   "source": [
    "m = create_matrix(1)\n",
    "print(json.dumps(m, indent = 4))"
   ]
  },
  {
   "cell_type": "markdown",
   "metadata": {},
   "source": [
    "---"
   ]
  },
  {
   "cell_type": "markdown",
   "metadata": {},
   "source": [
    "# Project 1: Rock Paper Scissors\n",
    "Create a bot that beats the other bits, at least 60% of the games."
   ]
  },
  {
   "cell_type": "markdown",
   "metadata": {},
   "source": [
    "## Method\n",
    "Markov Chain\n",
    "\n",
    "## What is a Markov Chain\n",
    "> A stochastic process containing random variables, transitioning from one state to another depending on certain assumptions and definite probabilistic rules."
   ]
  },
  {
   "cell_type": "code",
   "execution_count": 6,
   "metadata": {},
   "outputs": [],
   "source": [
    "import numpy as np\n",
    "from collections import Counter"
   ]
  },
  {
   "cell_type": "code",
   "execution_count": 3,
   "metadata": {},
   "outputs": [],
   "source": [
    "T = np.ones((3, 3))\n",
    "T = T * 1/3"
   ]
  },
  {
   "cell_type": "code",
   "execution_count": 4,
   "metadata": {},
   "outputs": [],
   "source": [
    "RPS = ['R', 'P', 'S']"
   ]
  },
  {
   "cell_type": "code",
   "execution_count": 20,
   "metadata": {},
   "outputs": [
    {
     "name": "stdout",
     "output_type": "stream",
     "text": [
      "[0, 0, 2, 0, 1, 2, 2, 2, 1, 1, 0, 1, 2, 0]\n",
      "['R', 'R', 'S', 'R', 'P', 'S', 'S', 'S', 'P', 'P', 'R', 'P', 'S', 'R']\n"
     ]
    }
   ],
   "source": [
    "# mock up of opponents moves\n",
    "OM = ['R', 'R', 'S', 'R', 'P', 'S', 'S', 'S', 'P', 'P', 'R', 'P', 'S', 'R']\n",
    "# convert to ints\n",
    "RPS_TO_INT = {\n",
    "    'R': 0,\n",
    "    'P': 1,\n",
    "    'S': 2\n",
    "}\n",
    "OM_INT = []\n",
    "for rps in OM:\n",
    "    OM_INT.append(RPS_TO_INT[rps])\n",
    "\n",
    "print(OM_INT)\n",
    "# Incase going back to RPS is needed:\n",
    "INT_TO_RPS = {v: k for k, v in RPS_TO_INT.items()}\n",
    "\n",
    "# testing it\n",
    "INT_OM = []\n",
    "for i in OM_INT:\n",
    "    INT_OM.append(INT_TO_RPS[i])\n",
    "\n",
    "print(INT_OM)"
   ]
  },
  {
   "cell_type": "code",
   "execution_count": 21,
   "metadata": {},
   "outputs": [
    {
     "name": "stdout",
     "output_type": "stream",
     "text": [
      "Counter({'R': 5, 'S': 5, 'P': 4})\n"
     ]
    }
   ],
   "source": [
    "# Calculate average opponent moves\n",
    "# First, count the occurances\n",
    "C = Counter(OM)\n",
    "print(C)"
   ]
  },
  {
   "cell_type": "code",
   "execution_count": 12,
   "metadata": {},
   "outputs": [],
   "source": [
    "# Rephrasing: what is the probability of the opponents next move? So, what is the current state and what will then be the opponents action?\n",
    "# Continously modify the transition matrix to adapt to the new opponent data.\n",
    "# Transistion matrix: What is the probability of taking a certain action, resulting in a next state, depending on the current state?\n",
    "\n",
    "# Get the mock up opponent data and turn it into a transistion matrix"
   ]
  },
  {
   "cell_type": "code",
   "execution_count": 13,
   "metadata": {},
   "outputs": [],
   "source": [
    "def transition_matrix(t):\n",
    "    M = np.zeros((3, 3))\n",
    "    for (i, j) in zip(t, t[1:]):\n",
    "        M[i][j] += 1\n",
    "    \n",
    "    for row in M:\n",
    "        s = sum(row)\n",
    "        if s > 0:\n",
    "            row[:] = [f/s for f in row]\n",
    "\n",
    "    return M"
   ]
  },
  {
   "cell_type": "code",
   "execution_count": 15,
   "metadata": {},
   "outputs": [
    {
     "name": "stdout",
     "output_type": "stream",
     "text": [
      "[[0.33333333 0.33333333 0.33333333]\n",
      " [0.         0.         0.        ]\n",
      " [1.         0.         0.        ]]\n"
     ]
    }
   ],
   "source": [
    "m = transition_matrix(OM_INT)\n",
    "print(m)"
   ]
  },
  {
   "cell_type": "code",
   "execution_count": 16,
   "metadata": {},
   "outputs": [],
   "source": [
    "def t_m(t, m):\n",
    "    for (i, j) in zip(t, t[1:]):\n",
    "        m[i, j] += 1\n",
    "\n",
    "    for row in m:\n",
    "        s = sum(row)\n",
    "        if s > 0:\n",
    "            row[:] = [f/s for f in row]\n",
    "    \n",
    "    return m"
   ]
  },
  {
   "cell_type": "code",
   "execution_count": 24,
   "metadata": {},
   "outputs": [
    {
     "name": "stdout",
     "output_type": "stream",
     "text": [
      "[[0.25066667 0.49866667 0.25066667]\n",
      " [0.24933333 0.24933333 0.50133333]\n",
      " [0.39969136 0.20015432 0.40015432]]\n"
     ]
    }
   ],
   "source": [
    "mm = np.array(t_m(OM_INT, T))\n",
    "print(mm)"
   ]
  },
  {
   "cell_type": "code",
   "execution_count": 32,
   "metadata": {},
   "outputs": [
    {
     "name": "stdout",
     "output_type": "stream",
     "text": [
      "S\n"
     ]
    }
   ],
   "source": [
    "# so, if the previous state was Scissors, the new state ought to be Scissors as well. I.E:\n",
    "next_state = INT_TO_RPS[np.argmax(mm[RPS_TO_INT['S']])]\n",
    "print(next_state)"
   ]
  },
  {
   "cell_type": "code",
   "execution_count": 34,
   "metadata": {},
   "outputs": [
    {
     "name": "stdout",
     "output_type": "stream",
     "text": [
      "R\n"
     ]
    }
   ],
   "source": [
    "# This should lead to the following guess\n",
    "best_guess = {\n",
    "    'R': 'P',\n",
    "    'P': 'S',\n",
    "    'S': 'R'\n",
    "}\n",
    "\n",
    "guess = best_guess[next_state]\n",
    "print(guess)"
   ]
  },
  {
   "cell_type": "markdown",
   "metadata": {},
   "source": [
    "### How to introduce the Bellman equation before making the guess?\n",
    "We now have the next state, i.e. the next move that the opponent will make. We have the current state, which in our case is the prev_play in the original code. What then, is the action? Is it the action we're going to take, i.e. our guess?"
   ]
  }
 ],
 "metadata": {
  "interpreter": {
   "hash": "e7370f93d1d0cde622a1f8e1c04877d8463912d04d973331ad4851f04de6915a"
  },
  "kernelspec": {
   "display_name": "Python 3.8.10 64-bit",
   "language": "python",
   "name": "python3"
  },
  "language_info": {
   "codemirror_mode": {
    "name": "ipython",
    "version": 3
   },
   "file_extension": ".py",
   "mimetype": "text/x-python",
   "name": "python",
   "nbconvert_exporter": "python",
   "pygments_lexer": "ipython3",
   "version": "3.8.10"
  },
  "orig_nbformat": 4
 },
 "nbformat": 4,
 "nbformat_minor": 2
}
